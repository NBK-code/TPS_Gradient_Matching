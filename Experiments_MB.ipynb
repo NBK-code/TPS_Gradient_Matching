{
  "nbformat": 4,
  "nbformat_minor": 0,
  "metadata": {
    "colab": {
      "provenance": [],
      "authorship_tag": "ABX9TyOeraghEOdY4RBICzfAfN7U",
      "include_colab_link": true
    },
    "kernelspec": {
      "name": "python3",
      "display_name": "Python 3"
    },
    "language_info": {
      "name": "python"
    }
  },
  "cells": [
    {
      "cell_type": "markdown",
      "metadata": {
        "id": "view-in-github",
        "colab_type": "text"
      },
      "source": [
        "<a href=\"https://colab.research.google.com/github/NBK-code/TPS_Gradient_Matching/blob/main/Experiments_MB.ipynb\" target=\"_parent\"><img src=\"https://colab.research.google.com/assets/colab-badge.svg\" alt=\"Open In Colab\"/></a>"
      ]
    },
    {
      "cell_type": "markdown",
      "source": [
        "#Import Libraries"
      ],
      "metadata": {
        "id": "dlnG-NiMviPb"
      }
    },
    {
      "cell_type": "code",
      "source": [
        "import torch\n",
        "import torch.nn as nn\n",
        "import numpy as np\n",
        "import matplotlib.pyplot as plt\n",
        "import torch.nn.functional as F"
      ],
      "metadata": {
        "id": "tss9CJ3gpCYF"
      },
      "execution_count": null,
      "outputs": []
    },
    {
      "cell_type": "code",
      "source": [
        "#install opencv\n",
        "!pip install opencv-python"
      ],
      "metadata": {
        "id": "fuZocL6L17hU"
      },
      "execution_count": null,
      "outputs": []
    },
    {
      "cell_type": "code",
      "source": [
        "import cv2\n",
        "import os"
      ],
      "metadata": {
        "id": "cifhkntvuLk9"
      },
      "execution_count": null,
      "outputs": []
    },
    {
      "cell_type": "markdown",
      "source": [
        "#Cholesky Decomposition and Reparameterization for Multivariate Gaussian"
      ],
      "metadata": {
        "id": "--cVcGk-fVCp"
      }
    },
    {
      "cell_type": "code",
      "source": [
        "# Define a random lower triangular matrix L and center c\n",
        "np.random.seed(42)  # For reproducibility\n",
        "\n",
        "L = np.array([[2.0, 0.0], [-2.0, 2.0]])  # Random lower triangular matrix\n",
        "c = np.array([1.0, 2.0])  # Center of the potential\n",
        "\n",
        "# Generate samples\n",
        "num_samples = 100\n",
        "epsilon = np.random.randn(num_samples, 2)  # Standard normal distribution (500, 2)\n",
        "x_samples = c + epsilon @ L.T  # Generate samples using x = c + L * epsilon\n",
        "\n",
        "\n",
        "# Define the potential function V(x, y)\n",
        "def V(x, y, L, c):\n",
        "    diff = np.array([x - c[0], y - c[1]])\n",
        "    return 0.5 * diff.T @ np.linalg.inv( L @ L.T) @ diff\n",
        "\n",
        "# Create a grid for plotting\n",
        "x_grid, y_grid = np.meshgrid(np.linspace(-25, 25, 100), np.linspace(-25, 25, 100))\n",
        "V_grid = np.zeros_like(x_grid)\n",
        "\n",
        "# Calculate the potential at each grid point\n",
        "for i in range(x_grid.shape[0]):\n",
        "    for j in range(x_grid.shape[1]):\n",
        "        V_grid[i, j] = V(x_grid[i, j], y_grid[i, j], L, c)\n",
        "\n",
        "# Plot the potential and the samples\n",
        "plt.figure(figsize=(8, 6))\n",
        "plt.contourf(x_grid, y_grid, V_grid, levels=30, cmap='Blues')\n",
        "plt.colorbar(label='Potential V(x, y)')\n",
        "plt.scatter(x_samples[:, 0], x_samples[:, 1], color='red', s=10, label='Samples')\n",
        "plt.scatter(c[0], c[1], color='black', marker='x', s=100, label='Center c')\n",
        "plt.title('Potential V(x, y) and Random Samples')\n",
        "plt.xlabel('x')\n",
        "plt.ylabel('y')\n",
        "plt.legend()\n",
        "plt.show()"
      ],
      "metadata": {
        "id": "1ulcF8LizCRA"
      },
      "execution_count": null,
      "outputs": []
    },
    {
      "cell_type": "markdown",
      "source": [
        "#Muller-Brown Potential"
      ],
      "metadata": {
        "id": "gwz_e_ckhgSl"
      }
    },
    {
      "cell_type": "code",
      "source": [
        "def U(xs, beta=1.0):\n",
        "    x, y = xs[:, 0], xs[:, 1]\n",
        "    e1 = -200 * torch.exp(-(x - 1) ** 2 - 10 * y ** 2)\n",
        "    e2 = -100 * torch.exp(-x ** 2 - 10 * (y - 0.5) ** 2)\n",
        "    e3 = -170 * torch.exp(-6.5 * (0.5 + x) ** 2 + 11 * (x + 0.5) * (y - 1.5) - 6.5 * (y - 1.5) ** 2)\n",
        "    e4 = 15.0 * torch.exp(0.7 * (1 + x) ** 2 + 0.6 * (x + 1) * (y - 1) + 0.7 * (y - 1) ** 2)\n",
        "    return beta * (e1 + e2 + e3 + e4)"
      ],
      "metadata": {
        "id": "Mk_B-AFndoVB"
      },
      "execution_count": null,
      "outputs": []
    },
    {
      "cell_type": "code",
      "source": [
        "#Plot potential U\n",
        "A = np.array([[-0.55828035, 1.44169]])\n",
        "B = np.array([[0.62361133, 0.02804632]])\n",
        "\n",
        "x, y = np.linspace(-1.5, 1.0, 100), np.linspace(-0.5, 1.7, 100)\n",
        "x, y = np.meshgrid(x, y)\n",
        "xs = torch.tensor(np.stack([x, y], -1).reshape(-1, 2), dtype=torch.float32)\n",
        "z = U(xs).reshape([100, 100])\n",
        "z = z.detach().numpy()\n",
        "plt.contourf(x, y, z, 50)\n",
        "plt.scatter(A[0, 0], A[0, 1])\n",
        "plt.scatter(B[0, 0], B[0, 1])\n",
        "plt.show()"
      ],
      "metadata": {
        "id": "Y5bp1nTkghuB"
      },
      "execution_count": null,
      "outputs": []
    },
    {
      "cell_type": "code",
      "source": [
        "# Gradient of U with respect to xs\n",
        "def dUdx_fn(xs):\n",
        "    xs.requires_grad_(True)  # Ensure gradients are tracked\n",
        "    if xs.grad is not None:\n",
        "        xs.grad = None  # Zero out any previous gradients\n",
        "\n",
        "    U_val = U(xs).sum()  # Compute U and sum it (scalar result required for backward)\n",
        "    U_val.backward()      # Compute the gradient of U with respect to xs\n",
        "    return xs.grad        # Return the computed gradients"
      ],
      "metadata": {
        "id": "SVPPelNxg_NC"
      },
      "execution_count": null,
      "outputs": []
    },
    {
      "cell_type": "code",
      "source": [
        "# Analytical gradient computation of Muller-Brown potential\n",
        "def grad_U_analytical(xs):\n",
        "    x, y = xs[..., 0], xs[..., 1]\n",
        "\n",
        "    # Compute each e_i for gradient computation\n",
        "    e1 = -200 * torch.exp(-(x - 1) ** 2 - 10 * y ** 2)\n",
        "    e2 = -100 * torch.exp(-x ** 2 - 10 * (y - 0.5) ** 2)\n",
        "    e3 = -170 * torch.exp(-6.5 * (0.5 + x) ** 2 + 11 * (x + 0.5) * (y - 1.5) - 6.5 * (y - 1.5) ** 2)\n",
        "    e4 = 15.0 * torch.exp(0.7 * (1 + x) ** 2 + 0.6 * (x + 1) * (y - 1) + 0.7 * (y - 1) ** 2)\n",
        "\n",
        "    # Derivatives of e1 with respect to x and y\n",
        "    dU1_dx = e1 * (-2 * (x - 1))\n",
        "    dU1_dy = e1 * (-20 * y)\n",
        "\n",
        "    # Derivatives of e2 with respect to x and y\n",
        "    dU2_dx = e2 * (-2 * x)\n",
        "    dU2_dy = e2 * (-20 * (y - 0.5))\n",
        "\n",
        "    # Derivatives of e3 with respect to x and y\n",
        "    dU3_dx = e3 * (-13 * (x + 0.5) + 11 * (y - 1.5))\n",
        "    dU3_dy = e3 * (11 * (x + 0.5) - 13 * (y - 1.5))\n",
        "\n",
        "    # Derivatives of e4 with respect to x and y\n",
        "    dU4_dx = e4 * (1.4 * (x + 1) + 0.6 * (y - 1))\n",
        "    dU4_dy = e4 * (0.6 * (x + 1) + 1.4 * (y - 1))\n",
        "\n",
        "    # Sum the derivatives to get the total gradients with respect to x and y\n",
        "    grad_U_x = dU1_dx + dU2_dx + dU3_dx + dU4_dx\n",
        "    grad_U_y = dU1_dy + dU2_dy + dU3_dy + dU4_dy\n",
        "\n",
        "    # Stack the gradients along the last axis to return a tensor of shape (N, 2)\n",
        "    return torch.stack([grad_U_x, grad_U_y], dim=-1)"
      ],
      "metadata": {
        "id": "ghe7W_f8Qniy"
      },
      "execution_count": null,
      "outputs": []
    },
    {
      "cell_type": "code",
      "source": [
        "# Generate meshgrid\n",
        "x_vals, y_vals = np.linspace(-1.5, 1.0, 50), np.linspace(-0.5, 1.7, 50)\n",
        "x_grid, y_grid = np.meshgrid(x_vals, y_vals)\n",
        "xs = torch.tensor(np.stack([x_grid, y_grid], -1).reshape(-1, 2), dtype=torch.float32)\n",
        "\n",
        "# Calculate potential values and gradients\n",
        "U_vals = U(xs).detach().numpy().reshape(50, 50)  # Reshape to grid for plotting\n",
        "grads = dUdx_fn(xs).detach().numpy().reshape(50, 50, 2)  # Gradients in x and y\n",
        "\n",
        "grad_U_analytical_vals = grad_U_analytical(xs).detach().numpy().reshape(50, 50, 2)  # Analytical gradients\n",
        "\n",
        "# Extract the components of the gradients\n",
        "grad_x = grads[:, :, 0]  # Gradient w.r.t. x\n",
        "grad_y = grads[:, :, 1]  # Gradient w.r.t. y\n",
        "\n",
        "# Extract the components of the analytical gradients\n",
        "grad_x_analytical = grad_U_analytical_vals[:, :, 0]\n",
        "grad_y_analytical = grad_U_analytical_vals[:, :, 1]\n",
        "\n",
        "# Plot the potential and the gradients as arrows\n",
        "plt.figure(figsize=(10, 6))\n",
        "\n",
        "# Plot the potential as a contour map\n",
        "plt.contourf(x_grid, y_grid, U_vals, levels=20, cmap='viridis')\n",
        "plt.colorbar(label='Potential U(x, y)')\n",
        "\n",
        "# Plot the gradient vectors as arrows\n",
        "plt.quiver(x_grid, y_grid, -grad_x, -grad_y, color='red')  # Arrows for gradients (flip direction for descent)\n",
        "\n",
        "plt.title('Potential U(x, y) and Gradients')\n",
        "plt.xlabel('x')\n",
        "plt.ylabel('y')\n",
        "plt.show()\n",
        "\n",
        "# Plot the potential and the gradients as arrows\n",
        "plt.figure(figsize=(10, 6))\n",
        "\n",
        "# Plot the potential as a contour map\n",
        "plt.contourf(x_grid, y_grid, U_vals, levels=20, cmap='viridis')\n",
        "plt.colorbar(label='Potential U(x, y)')\n",
        "\n",
        "# Plot the gradient vectors as arrows\n",
        "plt.quiver(x_grid, y_grid, -grad_x_analytical, -grad_y_analytical, color='red')  # Arrows for gradients (flip direction for descent)\n",
        "\n",
        "plt.title('Potential U(x, y) and Gradients')\n",
        "plt.xlabel('x')\n",
        "plt.ylabel('y')\n",
        "plt.show()"
      ],
      "metadata": {
        "id": "6AYhdultl4Ch"
      },
      "execution_count": null,
      "outputs": []
    },
    {
      "cell_type": "code",
      "source": [
        "#Check if grad_x == grad_x_analytical within a tolerance\n",
        "np.allclose(grad_x, grad_x_analytical, atol=1e-4)"
      ],
      "metadata": {
        "id": "RX8U2G33RsHb"
      },
      "execution_count": null,
      "outputs": []
    },
    {
      "cell_type": "markdown",
      "source": [
        "#Mean Neural Network"
      ],
      "metadata": {
        "id": "gOSpj9Lzqg1w"
      }
    },
    {
      "cell_type": "code",
      "source": [
        "# Neural network NN_{\\theta}(t) definition\n",
        "class NN_theta(nn.Module):\n",
        "    def __init__(self):\n",
        "        super(NN_theta, self).__init__()\n",
        "        self.fc = nn.Sequential(\n",
        "            nn.Linear(1, 256),  # Input t (scalar)\n",
        "            nn.ReLU(),\n",
        "            nn.Linear(256, 256),\n",
        "            nn.ReLU(),\n",
        "            nn.Linear(256, 256),\n",
        "            nn.ReLU(),\n",
        "            nn.Linear(256, 2)  # Output shape should match A and B (2D vector here)\n",
        "        )\n",
        "\n",
        "    def forward(self, t):\n",
        "        return self.fc(t)\n",
        "\n",
        "# Instantiate the neural network\n",
        "nn_theta = NN_theta()\n",
        "\n",
        "\n",
        "def c_theta(t, A, B, nn_theta):\n",
        "    # t should be of shape (N, 1) for a batch of N samples\n",
        "    t = t.view(-1, 1)  # Ensure t is treated as a column vector\n",
        "    return (1 - t) * A + t * B + t * (1 - t) * nn_theta(t)"
      ],
      "metadata": {
        "id": "JAQcWPbvnAPS"
      },
      "execution_count": null,
      "outputs": []
    },
    {
      "cell_type": "code",
      "source": [
        "# Predefined A and B (assumed to be vectors here, adjust as needed)\n",
        "A = torch.tensor([-0.55828035, 1.44169], dtype=torch.float32)\n",
        "B = torch.tensor([0.62361133, 0.02804632], dtype=torch.float32)\n",
        "\n",
        "# Evaluate c_theta(t) over a range of t\n",
        "t_vals = torch.linspace(0, 1, 100)  # t from 0 to 1\n",
        "c_t_vals = c_theta(t_vals, A, B, nn_theta).detach().numpy()"
      ],
      "metadata": {
        "id": "SryUOGirr3lw"
      },
      "execution_count": null,
      "outputs": []
    },
    {
      "cell_type": "code",
      "source": [
        "#Plot potential U\n",
        "A = np.array([[-0.55828035, 1.44169]])\n",
        "B = np.array([[0.62361133, 0.02804632]])\n",
        "\n",
        "x, y = np.linspace(-1.5, 1.0, 100), np.linspace(-0.5, 1.7, 100)\n",
        "x, y = np.meshgrid(x, y)\n",
        "xs = torch.tensor(np.stack([x, y], -1).reshape(-1, 2), dtype=torch.float32)\n",
        "z = U(xs).reshape([100, 100])\n",
        "z = z.detach().numpy()\n",
        "plt.contourf(x, y, z, 50)\n",
        "plt.scatter(A[0, 0], A[0, 1])\n",
        "plt.scatter(B[0, 0], B[0, 1])\n",
        "plt.plot(c_t_vals[:, 0], c_t_vals[:, 1])\n",
        "plt.show()"
      ],
      "metadata": {
        "id": "Ih4_BuutqjMJ"
      },
      "execution_count": null,
      "outputs": []
    },
    {
      "cell_type": "markdown",
      "source": [
        "#Generate Samples and Gradients of V"
      ],
      "metadata": {
        "id": "fJky5a7bwM00"
      }
    },
    {
      "cell_type": "code",
      "source": [
        "# Constant lower triangular matrix L\n",
        "L = torch.tensor([[0.2, 0.0], [0.0, 0.2]], dtype=torch.float64)"
      ],
      "metadata": {
        "id": "fJyogzX_sEJt"
      },
      "execution_count": null,
      "outputs": []
    },
    {
      "cell_type": "code",
      "source": [
        "# Scaled matrix L_scaled\n",
        "def L_scaled(t, L):\n",
        "    return torch.sqrt(t * (1 - t)).view(-1, 1, 1) * L  # Scales L by sqrt(t(1-t))"
      ],
      "metadata": {
        "id": "_2Y47SHywbdJ"
      },
      "execution_count": null,
      "outputs": []
    },
    {
      "cell_type": "code",
      "source": [
        "def generate_samples_and_gradients_V(t, N, A, B, L, nn_theta):\n",
        "    # Generate Gaussian noise\n",
        "    epsilon = torch.randn(N, 2)\n",
        "\n",
        "    # Compute c_theta(t)\n",
        "    c_t = c_theta(t, A, B, nn_theta) # This should output a (2,) vector\n",
        "\n",
        "    # Scale the matrix L\n",
        "    L_scale = L_scaled(t, L) # This should output a (2, 2) matrix\n",
        "\n",
        "    # Generate samples\n",
        "    x_t = c_t + epsilon.double() @ L_scale.transpose(-1, -2)  # (N, 2)\n",
        "\n",
        "    #Find inverse\n",
        "    L_inv = torch.inverse(L_scale) # Should be a (2, 2) matrix\n",
        "\n",
        "    #Find gradients\n",
        "    grad_V = epsilon.double() @ L_inv # (N, 2)\n",
        "\n",
        "    return x_t, grad_V"
      ],
      "metadata": {
        "id": "W6hw6VO_wvix"
      },
      "execution_count": null,
      "outputs": []
    },
    {
      "cell_type": "code",
      "source": [
        "# Generate meshgrid for Muller-Brown potential\n",
        "x_vals, y_vals = np.linspace(-1.5, 1.0, 100), np.linspace(-0.5, 1.7, 100)\n",
        "x_grid, y_grid = np.meshgrid(x_vals, y_vals)\n",
        "xs = torch.tensor(np.stack([x_grid, y_grid], -1).reshape(-1, 2), dtype=torch.float32)\n",
        "\n",
        "# Compute potential values\n",
        "U_vals = U(xs).detach().numpy().reshape(100, 100)\n",
        "\n",
        "# Sample t value and generate samples for t\n",
        "t = torch.tensor([0.5], dtype=torch.float32)  # Example t value\n",
        "N = 100  # Number of samples\n",
        "samples, grad_V = generate_samples_and_gradients_V(t, N, A, B, L, nn_theta)  # Generate samples\n",
        "\n",
        "# Convert samples to numpy arrays\n",
        "samples = samples.detach().numpy()\n",
        "grad_V = grad_V.detach().numpy()\n",
        "\n",
        "# Plot the Muller-Brown potential and the generated samples\n",
        "plt.figure(figsize=(8, 6))\n",
        "\n",
        "# Plot the Muller-Brown potential as a contour map\n",
        "plt.contourf(x_grid, y_grid, U_vals, levels=20, cmap='viridis')\n",
        "plt.colorbar(label='Muller-Brown Potential U(x, y)')\n",
        "\n",
        "# Overlay the generated samples\n",
        "plt.scatter(samples[0,:,0], samples[0,:,1], color='red', marker='o', label=r'Samples $x_t$', s=0.8)\n",
        "plt.quiver(samples[0,:,0], samples[0,:,1], -grad_V[0,:,0], -grad_V[0,:,1], color='orange', scale=700, label='Gradients')\n",
        "plt.title(r'Muller-Brown Potential U(x, y) and Samples $x_t$')\n",
        "plt.xlabel('x')\n",
        "plt.ylabel('y')\n",
        "plt.legend()\n",
        "plt.show()"
      ],
      "metadata": {
        "id": "nqbjhXkFxIo5"
      },
      "execution_count": null,
      "outputs": []
    },
    {
      "cell_type": "markdown",
      "source": [
        "#Gradients of U computed at samples of V"
      ],
      "metadata": {
        "id": "TYTIWZ3iIgG-"
      }
    },
    {
      "cell_type": "code",
      "source": [
        "# Constant lower triangular matrix L\n",
        "L = torch.tensor([[0.15, 0.0], [0.0, 0.15]], dtype=torch.float64)"
      ],
      "metadata": {
        "id": "YoeeRMJSLHOR"
      },
      "execution_count": null,
      "outputs": []
    },
    {
      "cell_type": "code",
      "source": [
        "# Scaled matrix L_scaled\n",
        "def L_scaled(t, L):\n",
        "    return torch.sqrt(t * (1 - t)).view(-1, 1, 1) * L  # Scales L by sqrt(t(1-t))"
      ],
      "metadata": {
        "id": "_ZKAbfnVLK2_"
      },
      "execution_count": null,
      "outputs": []
    },
    {
      "cell_type": "code",
      "source": [
        "def generate_samples_and_gradients_V_U(t, N, A, B, L, nn_theta):\n",
        "    # Generate Gaussian noise\n",
        "    epsilon = torch.randn(N, 2)\n",
        "\n",
        "    # Compute c_theta(t)\n",
        "    c_t = c_theta(t, A, B, nn_theta)  # This should output a (2,) vector\n",
        "\n",
        "    # Scale the matrix L\n",
        "    L_scale = L_scaled(t, L)  # This should output a (2, 2) matrix\n",
        "\n",
        "    # Generate samples: x_t = c_t + epsilon @ L_scale.T\n",
        "    x_t = c_t + epsilon.double() @ L_scale.double().transpose(-1, -2)  # (N, 2)\n",
        "\n",
        "    # Find inverse of L_scaled\n",
        "    L_inv = torch.inverse(L_scale)  # Should be a (2, 2) matrix\n",
        "\n",
        "    # Find gradients of V: grad_V = epsilon @ L_inv\n",
        "    grad_V = epsilon.double() @ L_inv.double()  # (N, 2)\n",
        "\n",
        "    # Compute the gradients of the Muller-Brown potential U at the samples x_t\n",
        "    grad_U = grad_U_analytical(x_t)  # (N, 2), gradients of U at x_t\n",
        "\n",
        "    return x_t, grad_V, grad_U"
      ],
      "metadata": {
        "id": "nPHEBlGO5m5_"
      },
      "execution_count": null,
      "outputs": []
    },
    {
      "cell_type": "code",
      "source": [
        "# Generate meshgrid for Muller-Brown potential\n",
        "x_vals, y_vals = np.linspace(-1.5, 1.0, 100), np.linspace(-0.5, 1.7, 100)\n",
        "x_grid, y_grid = np.meshgrid(x_vals, y_vals)\n",
        "xs = torch.tensor(np.stack([x_grid, y_grid], -1).reshape(-1, 2), dtype=torch.float32)\n",
        "\n",
        "# Compute potential values\n",
        "U_vals = U(xs).detach().numpy().reshape(100, 100)\n",
        "\n",
        "# Sample t value and generate samples for t\n",
        "t = torch.tensor([0.5], dtype=torch.float32)  # Example t value\n",
        "N = 100  # Number of samples\n",
        "samples, grad_V, grad_U = generate_samples_and_gradients_V_U(t, N, A, B, L, nn_theta)  # Generate samples\n",
        "\n",
        "# Convert samples to numpy arrays\n",
        "samples = samples.detach().numpy()\n",
        "grad_V = grad_V.detach().numpy()\n",
        "grad_U = grad_U.detach().numpy()\n",
        "\n",
        "# Plot the Muller-Brown potential and the generated samples\n",
        "plt.figure(figsize=(8, 6))\n",
        "\n",
        "# Plot the Muller-Brown potential as a contour map\n",
        "plt.contourf(x_grid, y_grid, U_vals, levels=20, cmap='viridis')\n",
        "plt.colorbar(label='Muller-Brown Potential U(x, y)')\n",
        "\n",
        "# Overlay the generated samples\n",
        "plt.scatter(samples[0,:,0], samples[0,:,1], color='red', marker='o', label=r'Samples $x_t$', s=0.8)\n",
        "plt.quiver(samples[0,:,0], samples[0,:,1], -grad_V[0,:,0], -grad_V[0,:,1], color='orange', scale=700, label='Gradients')\n",
        "plt.title(r'Muller-Brown Potential U(x, y) and Gradients of V')\n",
        "plt.xlabel('x')\n",
        "plt.ylabel('y')\n",
        "plt.legend()\n",
        "plt.show()\n",
        "\n",
        "# Plot the Muller-Brown potential and the generated samples\n",
        "plt.figure(figsize=(8, 6))\n",
        "\n",
        "# Plot the Muller-Brown potential as a contour map\n",
        "plt.contourf(x_grid, y_grid, U_vals, levels=20, cmap='viridis')\n",
        "plt.colorbar(label='Muller-Brown Potential U(x, y)')\n",
        "\n",
        "# Overlay the generated samples\n",
        "plt.scatter(samples[0,:,0], samples[0,:,1], color='red', marker='o', label=r'Samples $x_t$', s=0.8)\n",
        "plt.quiver(samples[0,:,0], samples[0,:,1], -grad_U[0,:,0], -grad_U[0,:,1], color='orange', scale=7000, label='Gradients')\n",
        "plt.title(r'Muller-Brown Potential U(x, y) and Gradients of U')\n",
        "plt.xlabel('x')\n",
        "plt.ylabel('y')\n",
        "plt.legend()\n",
        "plt.show()"
      ],
      "metadata": {
        "id": "ZSn88pBuKuPq"
      },
      "execution_count": null,
      "outputs": []
    },
    {
      "cell_type": "markdown",
      "source": [
        "#Train C Network"
      ],
      "metadata": {
        "id": "MpQWYTZlWEJi"
      }
    },
    {
      "cell_type": "code",
      "source": [
        "import os\n",
        "\n",
        "image_folder = '/content/sample_data'  # Path to the folder containing images\n",
        "\n",
        "for filename in os.listdir(image_folder):\n",
        "    if filename.endswith(\".png\"):\n",
        "        file_path = os.path.join(image_folder, filename)\n",
        "        os.remove(file_path)\n",
        "        #print(f\"Deleted: {filename}\")\n",
        "\n",
        "print(\"All .png images deleted from the folder.\")"
      ],
      "metadata": {
        "id": "Za84CaYIyDbF"
      },
      "execution_count": null,
      "outputs": []
    },
    {
      "cell_type": "code",
      "source": [
        "epochs = 1001\n",
        "lr = 0.001\n",
        "nn_theta = NN_theta()\n",
        "optimizer = torch.optim.Adam(nn_theta.parameters(), lr=lr)\n",
        "\n",
        "for epoch in range(epochs):\n",
        "    optimizer.zero_grad()\n",
        "    t = torch.rand(1, 1)  # Sample a random t\n",
        "    N = 20  # Number of samples\n",
        "    samples, grad_V, grad_U = generate_samples_and_gradients_V_U(t, N, A, B, L, nn_theta)\n",
        "    loss = torch.mean((grad_V - grad_U) ** 2)  # MSE loss\n",
        "    loss.backward()\n",
        "    optimizer.step()\n",
        "\n",
        "    if epoch % 50 == 0:\n",
        "        print(f\"Epoch {epoch}, Loss: {loss.item()}\")\n",
        "\n",
        "\n",
        "        #Plot potential U\n",
        "        A = np.array([[-0.55828035, 1.44169]])\n",
        "        B = np.array([[0.62361133, 0.02804632]])\n",
        "\n",
        "        # Evaluate c_theta(t) over a range of t\n",
        "        t_vals = torch.linspace(0, 1, 80)  # t from 0 to 1\n",
        "        c_t_vals = c_theta(t_vals, A, B, nn_theta).detach().numpy()\n",
        "\n",
        "        x, y = np.linspace(-1.5, 1.0, 100), np.linspace(-0.5, 1.7, 100)\n",
        "        x, y = np.meshgrid(x, y)\n",
        "        xs = torch.tensor(np.stack([x, y], -1).reshape(-1, 2), dtype=torch.float32)\n",
        "        z = U(xs).reshape([100, 100])\n",
        "        z = z.detach().numpy()\n",
        "        plt.contourf(x, y, z, 50)\n",
        "        plt.scatter(A[0, 0], A[0, 1])\n",
        "        plt.scatter(B[0, 0], B[0, 1])\n",
        "        plt.scatter(samples[...,0].detach().numpy(), samples[...,1].detach().numpy(), s = 0.8, color = 'skyblue')\n",
        "        plt.plot(c_t_vals[:, 0], c_t_vals[:, 1])\n",
        "        plt.xlim(-1.5, 1.0)\n",
        "        plt.ylim(-0.5, 1.7)\n",
        "        plt.savefig(f'/content/sample_data/image_{epoch}.png')  # Save with epoch number in filename\n",
        "        plt.show()\n",
        "        plt.close()"
      ],
      "metadata": {
        "id": "7F-pimBaWGtU"
      },
      "execution_count": null,
      "outputs": []
    },
    {
      "cell_type": "code",
      "source": [
        "# After the training loop is finished:\n",
        "image_folder = '/content/sample_data'  # Path to the folder containing images\n",
        "video_name = 'training_video.mp4'  # Output video filename\n",
        "\n",
        "images = [img for img in os.listdir(image_folder) if img.endswith(\".png\")]\n",
        "images.sort(key=lambda x: int(x[6:-4])) # Sort by epoch number\n",
        "\n",
        "frame = cv2.imread(os.path.join(image_folder, images[0]))\n",
        "height, width, layers = frame.shape\n",
        "\n",
        "video = cv2.VideoWriter(video_name, cv2.VideoWriter_fourcc(*'mp4v'), 5, (width, height))  # Adjust fps as needed\n",
        "\n",
        "for image in images:\n",
        "    video.write(cv2.imread(os.path.join(image_folder, image)))\n",
        "\n",
        "cv2.destroyAllWindows()\n",
        "video.release()"
      ],
      "metadata": {
        "id": "yk77aLXbvEEQ"
      },
      "execution_count": null,
      "outputs": []
    },
    {
      "cell_type": "markdown",
      "source": [
        "#With L as a Neural Network"
      ],
      "metadata": {
        "id": "MTULbyD30gbW"
      }
    },
    {
      "cell_type": "code",
      "source": [
        "class L_Network(nn.Module):\n",
        "    def __init__(self):\n",
        "        super(L_Network, self).__init__()\n",
        "\n",
        "        # Define the layers that will output L_11, L_21, and L_22\n",
        "        self.fc1 = nn.Linear(1, 16)  # Hidden layer\n",
        "        self.fc2 = nn.Linear(16, 16)  # Hidden layer\n",
        "        self.L_out = nn.Linear(16, 3)  # Output layer with 3 outputs (L_11, L_21, L_22)\n",
        "\n",
        "        #Initialize linear layers with normal mean =0 and std. dev = 0.001\n",
        "        nn.init.normal_(self.fc1.weight, mean=0.0, std=0.0001)\n",
        "        nn.init.normal_(self.fc2.weight, mean=0.0, std=0.0001)\n",
        "        nn.init.normal_(self.L_out.weight, mean=0.0, std=0.0001)\n",
        "\n",
        "        # Initialize biases with zeros\n",
        "        nn.init.zeros_(self.fc1.bias)\n",
        "        nn.init.zeros_(self.fc2.bias)\n",
        "        nn.init.zeros_(self.L_out.bias)\n",
        "\n",
        "    def forward(self, t):\n",
        "        # Pass t (the scalar input) through the network\n",
        "        x = torch.relu(self.fc1(t))\n",
        "        x = torch.relu(self.fc2(x))\n",
        "\n",
        "        # Output the values for L_11, L_21, and L_22\n",
        "        L_params = self.L_out(x)\n",
        "\n",
        "        # Constrain L_11 and L_22 to be positive using softplus or ReLU\n",
        "        L_11 = F.softplus(L_params[:, 0])  # Ensure L_11 > 0\n",
        "        L_21 = L_params[:, 1]  # L_21 can be any real number\n",
        "        L_22 = F.softplus(L_params[:, 2])  # Ensure L_22 > 0\n",
        "\n",
        "        # Construct the lower triangular matrix L\n",
        "        L = torch.stack([torch.stack([L_11, torch.zeros_like(L_11)], dim=-1),\n",
        "                         torch.stack([L_21, L_22], dim=-1)], dim=-2)\n",
        "\n",
        "        return L"
      ],
      "metadata": {
        "id": "FcQKT9Cdz3VQ"
      },
      "execution_count": null,
      "outputs": []
    },
    {
      "cell_type": "code",
      "source": [
        "L_net = L_Network()\n",
        "\n",
        "# Example input t (e.g., from a time series or any other input)\n",
        "t = torch.tensor([[0.005]], dtype=torch.float32)\n",
        "\n",
        "# Get the lower triangular matrix L for the given t\n",
        "L_matrix = L_net(t)\n",
        "\n",
        "# Print the resulting L matrix\n",
        "print(L_matrix)"
      ],
      "metadata": {
        "id": "KI_ACWy90fiK"
      },
      "execution_count": null,
      "outputs": []
    },
    {
      "cell_type": "markdown",
      "source": [
        "#Train L Network"
      ],
      "metadata": {
        "id": "61sZLBye2oFg"
      }
    },
    {
      "cell_type": "code",
      "source": [
        "epochs = 10000\n",
        "lr = 0.001\n",
        "#nn_theta = NN_theta()\n",
        "L_net = L_Network()\n",
        "#optimizer = torch.optim.Adam(list(nn_theta.parameters()) + list(L_net.parameters()), lr=lr)\n",
        "optimizer = torch.optim.Adam(L_net.parameters(), lr=lr)\n",
        "\n",
        "loss_history = []\n",
        "\n",
        "for epoch in range(epochs):\n",
        "    optimizer.zero_grad()\n",
        "    t = torch.rand(1, 1)  # Sample a random t\n",
        "    N = 20  # Number of samples\n",
        "    L = L_net(t)\n",
        "    samples, grad_V, grad_U = generate_samples_and_gradients_V_U(t, N, A, B, L, nn_theta)\n",
        "    loss = torch.mean((grad_V - grad_U) ** 2)  # MSE loss\n",
        "    loss.backward()\n",
        "    optimizer.step()\n",
        "\n",
        "    if epoch % 100 == 0:\n",
        "        print(f\"Epoch {epoch}, Loss: {loss.item()}\")\n",
        "\n",
        "        loss_history.append(loss.item())\n",
        "\n",
        "        #Plot potential U\n",
        "        A = np.array([[-0.55828035, 1.44169]])\n",
        "        B = np.array([[0.62361133, 0.02804632]])\n",
        "\n",
        "        # Evaluate c_theta(t) over a range of t\n",
        "        t_vals = torch.linspace(0, 1, 100)  # t from 0 to 1\n",
        "        c_t_vals = c_theta(t_vals, A, B, nn_theta).detach().numpy()\n",
        "\n",
        "        x, y = np.linspace(-1.5, 1.0, 100), np.linspace(-0.5, 1.7, 100)\n",
        "        x, y = np.meshgrid(x, y)\n",
        "        xs = torch.tensor(np.stack([x, y], -1).reshape(-1, 2), dtype=torch.float32)\n",
        "        z = U(xs).reshape([100, 100])\n",
        "        z = z.detach().numpy()\n",
        "        plt.contourf(x, y, z, 50)\n",
        "        plt.scatter(A[0, 0], A[0, 1])\n",
        "        plt.scatter(B[0, 0], B[0, 1])\n",
        "        plt.scatter(samples[...,0].detach().numpy(), samples[...,1].detach().numpy(), s = 0.8)\n",
        "        plt.plot(c_t_vals[:, 0], c_t_vals[:, 1])\n",
        "        plt.show()"
      ],
      "metadata": {
        "id": "y3BjpgX71rqK"
      },
      "execution_count": null,
      "outputs": []
    },
    {
      "cell_type": "markdown",
      "source": [
        "#Generate Samples"
      ],
      "metadata": {
        "id": "gG9X6LIAoFZc"
      }
    },
    {
      "cell_type": "code",
      "source": [
        "num_samples_for_each_t = 100\n",
        "t_steps = 100\n",
        "\n",
        "t = np.linspace(0, 1, t_steps)\n",
        "\n",
        "all_samples = []\n",
        "\n",
        "for time_point in t[1:-1]:\n",
        "    t_tensor = torch.tensor([[time_point]], dtype=torch.float32)\n",
        "    L = L_net(t_tensor)\n",
        "    samples, _, _ = generate_samples_and_gradients_V_U(t_tensor, num_samples_for_each_t, A, B, L, nn_theta)\n",
        "    samples = samples.detach().numpy()\n",
        "    all_samples.append(samples)\n",
        "\n",
        "\n",
        "all_samples = np.concatenate(all_samples, axis=0)\n",
        "all_samples = all_samples.reshape((t_steps-2) * num_samples_for_each_t, 2)\n",
        "print(all_samples.shape)"
      ],
      "metadata": {
        "id": "5FL66SJk8MN_"
      },
      "execution_count": null,
      "outputs": []
    },
    {
      "cell_type": "code",
      "source": [
        "#Plot potential U\n",
        "A = np.array([[-0.55828035, 1.44169]])\n",
        "B = np.array([[0.62361133, 0.02804632]])\n",
        "\n",
        "# Evaluate c_theta(t) over a range of t\n",
        "t_vals = torch.linspace(0, 1, 100)  # t from 0 to 1\n",
        "c_t_vals = c_theta(t_vals, A, B, nn_theta).detach().numpy()\n",
        "\n",
        "x, y = np.linspace(-1.5, 1.0, 100), np.linspace(-0.5, 1.7, 100)\n",
        "x, y = np.meshgrid(x, y)\n",
        "xs = torch.tensor(np.stack([x, y], -1).reshape(-1, 2), dtype=torch.float32)\n",
        "z = U(xs).reshape([100, 100])\n",
        "z = z.detach().numpy()\n",
        "plt.contourf(x, y, z, 50)\n",
        "plt.scatter(A[0, 0], A[0, 1])\n",
        "plt.scatter(B[0, 0], B[0, 1])\n",
        "plt.scatter(all_samples[...,0], all_samples[...,1], s = 0.8, color = 'skyblue')\n",
        "#plt.plot(c_t_vals[:, 0], c_t_vals[:, 1], color = 'blue')\n",
        "plt.show()"
      ],
      "metadata": {
        "id": "N9vWvI7EqQ4C"
      },
      "execution_count": null,
      "outputs": []
    },
    {
      "cell_type": "markdown",
      "source": [
        "#Plot potential $V(x,y)$"
      ],
      "metadata": {
        "id": "uq89aUhABCPf"
      }
    },
    {
      "cell_type": "code",
      "source": [
        "#Create folder with path /content/sample_data/potential_V\n",
        "import os\n",
        "if not os.path.exists('/content/sample_data/potential_V'):\n",
        "    os.makedirs('/content/sample_data/potential_V')"
      ],
      "metadata": {
        "id": "AI70JLtM6SsD"
      },
      "execution_count": null,
      "outputs": []
    },
    {
      "cell_type": "code",
      "source": [
        "t_evals = torch.linspace(0, 1, 100)\n",
        "\n",
        "for t in t_evals[1:-1]:\n",
        "\n",
        "    t = torch.tensor([[t]], dtype=torch.float32)\n",
        "    c_t = c_theta(t, A, B, nn_theta)\n",
        "    c_t = c_t.detach().numpy()\n",
        "\n",
        "    L = L_net(t)\n",
        "    L_scale = L_scaled(t, L)\n",
        "    L_scale = L_scale.detach().numpy()\n",
        "\n",
        "    x_grid, y_grid = np.meshgrid(np.linspace(-1.5, 1.0, 100), np.linspace(-0.5, 1.7, 100))\n",
        "    V_grid = np.zeros_like(x_grid)\n",
        "\n",
        "    # Calculate the potential at each grid point\n",
        "    for i in range(x_grid.shape[0]):\n",
        "      for j in range(x_grid.shape[1]):\n",
        "        V_grid[i, j] = V(x_grid[i, j], y_grid[i, j], L_scale[0], c_t[0])\n",
        "\n",
        "    #Plot potential U\n",
        "    A = np.array([[-0.55828035, 1.44169]])\n",
        "    B = np.array([[0.62361133, 0.02804632]])\n",
        "\n",
        "    # Evaluate c_theta(t) over a range of t\n",
        "    t_vals_ = torch.linspace(0, 1, 100)  # t from 0 to 1\n",
        "    c_t_vals_ = c_theta(t_vals_, A, B, nn_theta).detach().numpy()\n",
        "\n",
        "    # Plot the potential and the samples\n",
        "    plt.figure(figsize=(8, 6))\n",
        "    #add the max limit for the contour plot\n",
        "    plt.contourf(x_grid, y_grid, V_grid, levels=30, cmap='Blues')\n",
        "    plt.colorbar(label='Potential V(x, y)')\n",
        "    plt.scatter(A[0, 0], A[0, 1])\n",
        "    plt.scatter(B[0, 0], B[0, 1])\n",
        "    plt.plot(c_t_vals_[:, 0], c_t_vals_[:, 1])\n",
        "    plt.title('Potential V(x, y) and Random Samples')\n",
        "    plt.xlabel('x')\n",
        "    plt.ylabel('y')\n",
        "    plt.savefig(f'/content/sample_data/potential_V/image_{t}.png')  # Save with epoch number in filename\n",
        "    plt.show()\n",
        "    plt.close()"
      ],
      "metadata": {
        "id": "eyj6DphXrnwt"
      },
      "execution_count": null,
      "outputs": []
    },
    {
      "cell_type": "code",
      "source": [
        "import re\n",
        "\n",
        "def sort_key_function(filename):\n",
        "    match = re.search(r\"\\[\\[(.*?)\\]\\]\", filename)  # Extract number using regex\n",
        "    if match:\n",
        "        return float(match.group(1))  # Convert to float for sorting\n",
        "    else:\n",
        "        return float('inf')"
      ],
      "metadata": {
        "id": "U1o5RY2_vj0-"
      },
      "execution_count": null,
      "outputs": []
    },
    {
      "cell_type": "code",
      "source": [
        "# After the training loop is finished:\n",
        "image_folder = '/content/sample_data/potential_V'  # Path to the folder containing images\n",
        "video_name = 'potential_V_video.mp4'  # Output video filename\n",
        "\n",
        "images = [img for img in os.listdir(image_folder) if img.endswith(\".png\")]\n",
        "images.sort(key=sort_key_function) # Sort by epoch number\n",
        "\n",
        "frame = cv2.imread(os.path.join(image_folder, images[0]))\n",
        "height, width, layers = frame.shape\n",
        "\n",
        "video = cv2.VideoWriter(video_name, cv2.VideoWriter_fourcc(*'mp4v'), 10, (width, height))  # Adjust fps as needed\n",
        "\n",
        "for image in images:\n",
        "    video.write(cv2.imread(os.path.join(image_folder, image)))\n",
        "\n",
        "cv2.destroyAllWindows()\n",
        "video.release()"
      ],
      "metadata": {
        "id": "mwoPwVWLu6xi"
      },
      "execution_count": null,
      "outputs": []
    },
    {
      "cell_type": "markdown",
      "source": [
        "#MD on U(x,y)"
      ],
      "metadata": {
        "id": "3Hc6DHLM7KbO"
      }
    },
    {
      "cell_type": "code",
      "source": [
        "# Langevin dynamics parameters\n",
        "gamma = 1.0      # Friction coefficient\n",
        "k_B_T = 10.0      # Thermal energy (k_B * Temperature)\n",
        "dt = 0.0001        # Time step\n",
        "n_steps = 2000000  # Number of steps\n",
        "\n",
        "# Initialize position\n",
        "position = torch.tensor([-0.55828035, 1.44169], requires_grad=False)  # Initial position as a tensor\n",
        "positions = [position.numpy()]  # List to store trajectory for plotting\n",
        "\n",
        "# Langevin dynamics loop\n",
        "for i in range(n_steps):\n",
        "    # Compute the gradient of the potential at the current position\n",
        "    grad = grad_U_analytical(position.unsqueeze(0))[0]  # Get gradient as a tensor\n",
        "\n",
        "    # Update position with drift and stochastic terms\n",
        "    noise = torch.sqrt(torch.tensor(2 * k_B_T * dt / gamma)) * torch.randn(2)  # Noise term\n",
        "    position = position - grad * dt / gamma + noise  # Langevin update\n",
        "\n",
        "    d = (position[0] - B[0,0])**2 + (position[1] - B[0,1])**2\n",
        "    if d < 0.0001:\n",
        "        print('Reached B after ', i, ' steps. The time taken for simulation is', i*dt)\n",
        "        break\n",
        "\n",
        "    # Store position for plotting\n",
        "    positions.append(position.numpy())\n",
        "\n",
        "# Convert trajectory to numpy array for easy plotting\n",
        "positions = np.array(positions)\n",
        "\n",
        "# Plot the trajectory\n",
        "plt.figure(figsize=(8, 6))\n",
        "x, y = np.linspace(-1.5, 1.0, 100), np.linspace(-0.5, 1.7, 100)\n",
        "x, y = np.meshgrid(x, y)\n",
        "xs = torch.tensor(np.stack([x, y], -1).reshape(-1, 2), dtype=torch.float32)\n",
        "z = U(xs).reshape([100, 100])\n",
        "z = z.detach().numpy()\n",
        "plt.contourf(x, y, z, 50)\n",
        "plt.plot(positions[:, 0], positions[:, 1], label='Trajectory', alpha=0.8)\n",
        "plt.xlabel('x')\n",
        "plt.ylabel('y')\n",
        "plt.xlim(-1.5, 1.0)\n",
        "plt.ylim(-0.5, 1.7)\n",
        "plt.scatter(A[0, 0], A[0, 1], color='red', label='A')\n",
        "plt.scatter(B[0, 0], B[0, 1], color='orange', label='B')\n",
        "plt.title(f'LD on Muller-Brown Potential -- Time steps taken from A to B = {i+1}')\n",
        "plt.legend()\n",
        "plt.show()"
      ],
      "metadata": {
        "id": "cpgKYAYbBIbe"
      },
      "execution_count": null,
      "outputs": []
    },
    {
      "cell_type": "markdown",
      "source": [
        "#MD on V(x,y)"
      ],
      "metadata": {
        "id": "QkZkFPnUkjUP"
      }
    },
    {
      "cell_type": "code",
      "source": [
        "import torch\n",
        "import numpy as np\n",
        "import matplotlib.pyplot as plt\n",
        "\n",
        "# Function to compute the potential at a given point (x, y) and time t\n",
        "def V(x, y, L, c):\n",
        "    diff = np.array([x - c[0], y - c[1]])\n",
        "    return 0.5 * diff.T @ np.linalg.inv(L @ L.T) @ diff\n",
        "\n",
        "# Function to compute the gradient of V with respect to x and y\n",
        "def grad_V(x, y, L, c):\n",
        "    diff = np.array([x - c[0], y - c[1]])\n",
        "    grad = np.linalg.inv(L @ L.T) @ diff\n",
        "    return grad\n",
        "\n",
        "# Langevin dynamics parameters\n",
        "gamma = 1.0         # Friction coefficient\n",
        "k_B_T = 10.0         # Thermal energy (k_B * Temperature)\n",
        "dt = 0.0001         # Time step for Langevin dynamics\n",
        "n_steps = 1         # Number of steps for each time step in t\n",
        "n_paths = 3         # Number of paths to generate\n",
        "\n",
        "# Time-varying potential parameters\n",
        "t_evals = torch.linspace(0, 1, 200)\n",
        "\n",
        "# Generate and plot multiple Langevin dynamics paths\n",
        "plt.figure(figsize=(8, 6))\n",
        "\n",
        "for path in range(n_paths):\n",
        "    # Initialize position for each path\n",
        "    position = np.array([-0.55828035, 1.44169])  # Initial position\n",
        "    trajectory = [position]  # List to store trajectory for the current path\n",
        "\n",
        "    # Perform Langevin dynamics over each time slice in t_evals\n",
        "    for t in t_evals[1:-1]:\n",
        "        # Update parameters for time-varying potential\n",
        "        t_tensor = torch.tensor([[t]], dtype=torch.float32)\n",
        "        c_t = c_theta(t_tensor, A, B, nn_theta).detach().numpy()[0]\n",
        "        L = L_net(t_tensor)\n",
        "        L_scale = L_scaled(t_tensor, L).detach().numpy()[0]\n",
        "\n",
        "        # Run Langevin dynamics for multiple steps in the current time slice\n",
        "        for _ in range(n_steps):\n",
        "            # Compute gradient of V at the current position and time\n",
        "            grad = grad_V(position[0], position[1], L_scale, c_t)\n",
        "\n",
        "            # Langevin update with deterministic and stochastic terms\n",
        "            noise = np.sqrt(2 * k_B_T * dt / gamma) * np.random.randn(2)\n",
        "            position = position - grad * dt / gamma + noise\n",
        "\n",
        "            # Store position for plotting\n",
        "            trajectory.append(position)\n",
        "\n",
        "    # Convert trajectory to numpy array and plot the path\n",
        "    trajectory = np.array(trajectory)\n",
        "    plt.plot(trajectory[:, 0], trajectory[:, 1], label=f'Path {path + 1}')\n",
        "\n",
        "# Plot the potential as a contour plot\n",
        "x, y = np.linspace(-1.5, 1.0, 100), np.linspace(-0.5, 1.7, 100)\n",
        "x, y = np.meshgrid(x, y)\n",
        "xs = torch.tensor(np.stack([x, y], -1).reshape(-1, 2), dtype=torch.float32)\n",
        "z = U(xs).reshape([100, 100])\n",
        "z = z.detach().numpy()\n",
        "#plt.contourf(x, y, z, 50, cmap=\"Blues\", alpha=0.5)\n",
        "plt.contourf(x, y, z, 50)\n",
        "# Plot start and end points and labels\n",
        "plt.xlabel('x')\n",
        "plt.ylabel('y')\n",
        "plt.title('Langevin Dynamics Trajectories on Time-Varying Potential V(x, y, t)')\n",
        "plt.show()"
      ],
      "metadata": {
        "id": "0zZ-w8kPD0fW"
      },
      "execution_count": null,
      "outputs": []
    },
    {
      "cell_type": "code",
      "source": [
        "import torch\n",
        "import numpy as np\n",
        "import matplotlib.pyplot as plt\n",
        "import os\n",
        "\n",
        "# Create directory for saving images\n",
        "output_dir = \"/content/sample_data/langevin_trajectories\"\n",
        "os.makedirs(output_dir, exist_ok=True)\n",
        "\n",
        "# Function to compute the potential at a given point (x, y) and time t\n",
        "def V(x, y, L, c):\n",
        "    diff = np.array([x - c[0], y - c[1]])\n",
        "    return 0.5 * diff.T @ np.linalg.inv(L @ L.T) @ diff\n",
        "\n",
        "# Function to compute the gradient of V with respect to x and y\n",
        "def grad_V(positions, L, c):\n",
        "    # Calculate gradient in parallel for multiple positions\n",
        "    diff = positions - c\n",
        "    grad = np.einsum('ij,jk->ik', diff, np.linalg.inv(L @ L.T))\n",
        "    return grad\n",
        "\n",
        "# Langevin dynamics parameters\n",
        "gamma = 1.0         # Friction coefficient\n",
        "k_B_T = 10.0         # Thermal energy (k_B * Temperature)\n",
        "dt = 0.0001         # Time step for Langevin dynamics\n",
        "n_steps = 1         # Number of steps for each time step in t\n",
        "n_paths = 3         # Number of paths to generate\n",
        "\n",
        "# Time-varying potential parameters\n",
        "t_evals = torch.linspace(0, 1, 200)\n",
        "\n",
        "# Initial positions for each path\n",
        "positions = np.tile(np.array([-0.55828035, 1.44169]), (n_paths, 1))\n",
        "trajectories = [positions.copy()]  # Initialize trajectories list\n",
        "\n",
        "# Prepare grid for potential contour plot (for every saved frame)\n",
        "x, y = np.linspace(-1.5, 1.0, 100), np.linspace(-0.5, 1.7, 100)\n",
        "x, y = np.meshgrid(x, y)\n",
        "xs = torch.tensor(np.stack([x, y], -1).reshape(-1, 2), dtype=torch.float32)\n",
        "z = U(xs).reshape([100, 100]).detach().numpy()\n",
        "\n",
        "# Generate and plot Langevin dynamics paths, saving each time step\n",
        "for t_idx, t in enumerate(t_evals[1:-1]):\n",
        "    # Update parameters for time-varying potential\n",
        "    t_tensor = torch.tensor([[t]], dtype=torch.float32)\n",
        "    c_t = c_theta(t_tensor, A, B, nn_theta).detach().numpy()[0]\n",
        "    L = L_net(t_tensor)\n",
        "    L_scale = L_scaled(t_tensor, L).detach().numpy()[0]\n",
        "\n",
        "    # Compute gradient for all paths in parallel\n",
        "    grad = grad_V(positions, L_scale, c_t)\n",
        "\n",
        "    # Langevin update with deterministic and stochastic terms\n",
        "    noise = np.sqrt(2 * k_B_T * dt / gamma) * np.random.randn(n_paths, 2)\n",
        "    positions = positions - grad * dt / gamma + noise\n",
        "\n",
        "    # Store updated positions in trajectories list\n",
        "    trajectories.append(positions.copy())\n",
        "\n",
        "    # Plot the potential and paths at this time step\n",
        "    plt.figure(figsize=(8, 6))\n",
        "    plt.contourf(x, y, z, 50)\n",
        "    for path_idx in range(n_paths):\n",
        "        # Extract path history up to the current time step\n",
        "        path_history = np.array([trajectory[path_idx] for trajectory in trajectories])\n",
        "        plt.plot(path_history[:, 0], path_history[:, 1], label=f'Path {path_idx + 1}')\n",
        "\n",
        "    # Plot configuration for each frame\n",
        "    plt.xlabel('x')\n",
        "    plt.ylabel('y')\n",
        "    plt.title(f'Langevin Dynamics Trajectories at Time Step {t_idx + 1}')\n",
        "    plt.legend()\n",
        "    # Save each frame as an image file\n",
        "    plt.savefig(f\"{output_dir}/frame_{t_idx + 1:03d}.png\")\n",
        "    plt.show()\n",
        "    plt.close()"
      ],
      "metadata": {
        "id": "dmmEkjOeKoxx"
      },
      "execution_count": null,
      "outputs": []
    },
    {
      "cell_type": "code",
      "source": [
        "def sort_key_function(filename):\n",
        "    # Extract the number from the filename \"frame_xxx.png\"\n",
        "    return int(filename.split('_')[1].split('.')[0])\n",
        "\n",
        "# After the training loop is finished:\n",
        "image_folder = '/content/sample_data/langevin_trajectories'  # Path to the folder containing images\n",
        "video_name = 'MD_V_video.mp4'  # Output video filename\n",
        "\n",
        "# Get list of image files and sort by frame number\n",
        "images = [img for img in os.listdir(image_folder) if img.endswith(\".png\")]\n",
        "images.sort(key=sort_key_function)  # Sort by frame number using the defined function\n",
        "\n",
        "# Read the first frame to get video dimensions\n",
        "frame = cv2.imread(os.path.join(image_folder, images[0]))\n",
        "height, width, layers = frame.shape\n",
        "\n",
        "# Create the video writer object\n",
        "video = cv2.VideoWriter(video_name, cv2.VideoWriter_fourcc(*'mp4v'), 10, (width, height))  # Adjust fps as needed\n",
        "\n",
        "# Write each image to the video\n",
        "for image in images:\n",
        "    video.write(cv2.imread(os.path.join(image_folder, image)))\n",
        "\n",
        "# Release the video writer and close windows\n",
        "cv2.destroyAllWindows()\n",
        "video.release()"
      ],
      "metadata": {
        "id": "wIlnTR7SMm3C"
      },
      "execution_count": null,
      "outputs": []
    },
    {
      "cell_type": "code",
      "source": [
        "import torch\n",
        "import numpy as np\n",
        "import matplotlib.pyplot as plt\n",
        "import os\n",
        "\n",
        "# Create directory for saving images\n",
        "output_dir = \"/content/sample_data/langevin_trajectories\"\n",
        "os.makedirs(output_dir, exist_ok=True)\n",
        "\n",
        "# Function to compute the potential V at a given point (x, y) and time t\n",
        "def V(x, y, L, c):\n",
        "    diff = np.array([x - c[0], y - c[1]])\n",
        "    return 0.5 * diff.T @ np.linalg.inv(L @ L.T) @ diff\n",
        "\n",
        "# Function to compute the gradient of V with respect to x and y\n",
        "def grad_V(positions, L, c):\n",
        "    # Calculate gradient in parallel for multiple positions\n",
        "    diff = positions - c\n",
        "    grad = np.einsum('ij,jk->ik', diff, np.linalg.inv(L @ L.T))\n",
        "    return grad\n",
        "\n",
        "# Langevin dynamics parameters\n",
        "gamma = 1.0         # Friction coefficient\n",
        "k_B_T = 10.0        # Thermal energy (k_B * Temperature)\n",
        "dt = 0.0001         # Time step for Langevin dynamics\n",
        "n_steps = 1         # Number of steps for each time step in t\n",
        "n_paths = 3         # Number of paths to generate\n",
        "\n",
        "# Time-varying potential parameters\n",
        "t_evals = torch.linspace(0, 1, 200)\n",
        "\n",
        "# Initial positions for each path\n",
        "positions = np.tile(np.array([-0.55828035, 1.44169]), (n_paths, 1))\n",
        "trajectories = [positions.copy()]  # Initialize trajectories list\n",
        "\n",
        "# Prepare grid for the fixed potential U\n",
        "x, y = np.linspace(-1.5, 1.0, 100), np.linspace(-0.5, 1.7, 100)\n",
        "x, y = np.meshgrid(x, y)\n",
        "xs = torch.tensor(np.stack([x, y], -1).reshape(-1, 2), dtype=torch.float32)\n",
        "z_U = U(xs).reshape([100, 100]).detach().numpy()  # Fixed potential U\n",
        "\n",
        "A = np.array([[-0.55828035, 1.44169]])\n",
        "B = np.array([[0.62361133, 0.02804632]])\n",
        "\n",
        "# Evaluate c_theta(t) over a range of t\n",
        "t_vals_ = torch.linspace(0, 1, 100)  # t from 0 to 1\n",
        "c_t_vals_ = c_theta(t_vals_, A, B, nn_theta).detach().numpy()\n",
        "\n",
        "# Generate and plot Langevin dynamics paths, saving each time step\n",
        "for t_idx, t in enumerate(t_evals[1:-1]):\n",
        "    # Update parameters for time-varying potential V\n",
        "    t_tensor = torch.tensor([[t]], dtype=torch.float32)\n",
        "    c_t = c_theta(t_tensor, A, B, nn_theta).detach().numpy()[0]\n",
        "    L = L_net(t_tensor)\n",
        "    L_scale = L_scaled(t_tensor, L).detach().numpy()[0]\n",
        "\n",
        "    # Compute gradient for all paths in parallel\n",
        "    grad = grad_V(positions, L_scale, c_t)\n",
        "\n",
        "    # Langevin update with deterministic and stochastic terms\n",
        "    noise = np.sqrt(2 * k_B_T * dt / gamma) * np.random.randn(n_paths, 2)\n",
        "    positions = positions - grad * dt / gamma + noise\n",
        "\n",
        "    # Store updated positions in trajectories list\n",
        "    trajectories.append(positions.copy())\n",
        "\n",
        "    # Create a figure with two subplots side by side\n",
        "    fig, (ax1, ax2) = plt.subplots(1, 2, figsize=(14, 6))\n",
        "    fig.suptitle(f'Time Step {t_idx + 1}')\n",
        "    # Left subplot: Plot the fixed potential U with Langevin paths\n",
        "    ax1.contourf(x, y, z_U, 50)\n",
        "    for path_idx in range(n_paths):\n",
        "        # Extract path history up to the current time step\n",
        "        path_history = np.array([trajectory[path_idx] for trajectory in trajectories])\n",
        "        ax1.plot(path_history[:, 0], path_history[:, 1], label=f'Path {path_idx + 1}')\n",
        "    ax1.set_title(f'LD Paths with Muller-Brown Background')\n",
        "    ax1.set_xlabel('x')\n",
        "    ax1.set_ylabel('y')\n",
        "    ax1.legend()\n",
        "\n",
        "    # Right subplot: Plot the time-varying potential V at current time step\n",
        "    #Plot potential U\n",
        "\n",
        "    z_V = np.array([[V(x_val, y_val, L_scale, c_t) for x_val, y_val in zip(x_row, y_row)] for x_row, y_row in zip(x, y)])\n",
        "    ax2.contourf(x, y, z_V, levels=50, cmap='viridis')\n",
        "    ax2.scatter(positions[:, 0], positions[:, 1], color='red', label='Current Position')\n",
        "    ax2.scatter(A[0, 0], A[0, 1])\n",
        "    ax2.scatter(B[0, 0], B[0, 1])\n",
        "    ax2.plot(c_t_vals_[:, 0], c_t_vals_[:, 1])\n",
        "    ax2.set_title('Time-Varying Potential V(x, y, t) with Current Positions')\n",
        "    ax2.set_xlabel('x')\n",
        "    ax2.set_ylabel('y')\n",
        "    ax2.legend()\n",
        "\n",
        "    # Save each frame as an image file\n",
        "    plt.savefig(f\"{output_dir}/frame_{t_idx + 1:03d}.png\")\n",
        "    plt.show()\n",
        "    plt.close()"
      ],
      "metadata": {
        "id": "77FI2AQ5S83o"
      },
      "execution_count": null,
      "outputs": []
    },
    {
      "cell_type": "code",
      "source": [
        "def sort_key_function(filename):\n",
        "    # Extract the number from the filename \"frame_xxx.png\"\n",
        "    return int(filename.split('_')[1].split('.')[0])\n",
        "\n",
        "# After the training loop is finished:\n",
        "image_folder = '/content/sample_data/langevin_trajectories'  # Path to the folder containing images\n",
        "video_name = 'MD_V_video.mp4'  # Output video filename\n",
        "\n",
        "# Get list of image files and sort by frame number\n",
        "images = [img for img in os.listdir(image_folder) if img.endswith(\".png\")]\n",
        "images.sort(key=sort_key_function)  # Sort by frame number using the defined function\n",
        "\n",
        "# Read the first frame to get video dimensions\n",
        "frame = cv2.imread(os.path.join(image_folder, images[0]))\n",
        "height, width, layers = frame.shape\n",
        "\n",
        "# Create the video writer object\n",
        "video = cv2.VideoWriter(video_name, cv2.VideoWriter_fourcc(*'mp4v'), 10, (width, height))  # Adjust fps as needed\n",
        "\n",
        "# Write each image to the video\n",
        "for image in images:\n",
        "    video.write(cv2.imread(os.path.join(image_folder, image)))\n",
        "\n",
        "# Release the video writer and close windows\n",
        "cv2.destroyAllWindows()\n",
        "video.release()"
      ],
      "metadata": {
        "id": "YL7P6OymVoFB"
      },
      "execution_count": null,
      "outputs": []
    },
    {
      "cell_type": "code",
      "source": [],
      "metadata": {
        "id": "QayDdga7W88W"
      },
      "execution_count": null,
      "outputs": []
    }
  ]
}